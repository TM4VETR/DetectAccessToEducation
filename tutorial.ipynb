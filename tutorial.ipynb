{
 "cells": [
  {
   "cell_type": "code",
   "execution_count": 1,
   "id": "bigger-dependence",
   "metadata": {},
   "outputs": [],
   "source": [
    "import trainingaccessdetection as tad"
   ]
  },
  {
   "cell_type": "markdown",
   "id": "italian-invention",
   "metadata": {},
   "source": [
    "# Tutorial\n",
    "The following examples show, how to extract access to education and training in German texts. The IDs refer to BA data available at https://www.arbeitsagentur.de/weiterleitung/1478936195174. In addition, the following generic statements are used:\n",
    "\n",
    "| Statement      | Description |\n",
    "| ----------- | ----------- |\n",
    "| B+      | Vocational education needed      |\n",
    "| BE   | professional experience  (Berufserfahrung) |\n",
    "\n",
    "Calling the function ``tad.accessdetection`` with a string will return the access information."
   ]
  },
  {
   "cell_type": "code",
   "execution_count": 3,
   "id": "aging-target",
   "metadata": {},
   "outputs": [
    {
     "data": {
      "text/plain": [
       "['130004-010', '090206-000', 'B+', 'BE']"
      ]
     },
     "execution_count": 3,
     "metadata": {},
     "output_type": "execute_result"
    }
   ],
   "source": [
    "tad.accessdetection(\"\"\"- Abgeschlossene Berufsausbildung oder 1 Jahr Berufserfahrung\n",
    "- Räumliches Vorstellungsvermögen, technisches Verständnis, manuelles Geschick, gute körperliche Belastbarkeit, keine Allergien gegen Öle, Fette oder andere Hilfsstoffe\"\"\")"
   ]
  },
  {
   "cell_type": "code",
   "execution_count": 2,
   "id": "confidential-syracuse",
   "metadata": {},
   "outputs": [
    {
     "data": {
      "text/plain": [
       "['A 4.NDS-92',\n",
       " 'A 4.NDS-21.7',\n",
       " 'A 4.BRE-21.2',\n",
       " 'A 4.NRW-44',\n",
       " 'A 4.NRW-43',\n",
       " 'A 4.BRE-21.3',\n",
       " 'A 4.SLH-21.1',\n",
       " 'A 4.HAM-21.3',\n",
       " 'A 4.THU-21.6',\n",
       " 'A 4.SAN-92',\n",
       " 'A 4.THU-44',\n",
       " 'A 4.RPF-21.4',\n",
       " 'A 4.HAM-21.7',\n",
       " 'A 4.BAY-21',\n",
       " 'A 4.HAM-44',\n",
       " 'A 4.BRE-21.7',\n",
       " 'A 4.RPF-21.2',\n",
       " 'A 4.RPF-44',\n",
       " 'A 4.HAM-43',\n",
       " 'A 4.NDS-21.4',\n",
       " 'A 4.NRW-21.4',\n",
       " 'A 4.NRW-21.6',\n",
       " 'A 4.THU-21.4',\n",
       " 'A 4.SAN-44',\n",
       " 'A 4.SAC-92',\n",
       " 'A 4.BAY-43',\n",
       " 'A 4.BRE-43',\n",
       " 'A 4.RPF-21.1',\n",
       " 'A 4.BRE-21.9',\n",
       " 'A 4.NRW-21.5',\n",
       " 'A 4.SAC-91',\n",
       " 'A 4.NRW-21.7',\n",
       " 'A 4.THU-91',\n",
       " 'A 4.THU-21.9',\n",
       " 'A 4.THU-21.3',\n",
       " 'A 4.SAC-43',\n",
       " 'A 4.THU-92',\n",
       " 'A 4.BAY-44',\n",
       " 'A 4.HAM-21.1',\n",
       " 'A 4.NDS-44',\n",
       " 'A 4.BER-44',\n",
       " 'A 4.NDS-21.1',\n",
       " 'A 4.THU-21.1',\n",
       " 'A 4.NRW-21.1',\n",
       " 'A 4.NDS-21.2',\n",
       " 'A 4.HAM-21.2',\n",
       " 'A 4.SLH-44',\n",
       " 'A 4.THU-21.5',\n",
       " 'A 4.SAN-91',\n",
       " 'A 4.BRE-44',\n",
       " 'A 4.RPF-91',\n",
       " 'A 4.HAM-21.9',\n",
       " 'A 4.SAN-43',\n",
       " 'A 4.BAY-22',\n",
       " 'A 4.HES-21.8',\n",
       " 'A 4.SLH-21.2',\n",
       " 'A 4.NRW-21.2',\n",
       " 'A 4.THU-21.8',\n",
       " 'A 4.SLH-21.7',\n",
       " 'A 4.RPF-21.7',\n",
       " 'A 4.SAN-21.4',\n",
       " 'A 4.THU-21.2',\n",
       " 'A 4.SAN-21.3',\n",
       " 'A 4.NDS-91',\n",
       " 'A 4.SLH-21.4',\n",
       " 'A 4.NDS-21.5',\n",
       " 'A 4.NRW-21.3',\n",
       " 'A 4.SAN-21.2',\n",
       " 'A 4.RPF-92',\n",
       " 'A 4.SAC-44']"
      ]
     },
     "execution_count": 2,
     "metadata": {},
     "output_type": "execute_result"
    }
   ],
   "source": [
    "tad.accessdetection(\"mindestens Sekundarabschluss I - Realschulabschluss oder ein als gleichwertig anerkannter Bildungsstand\")"
   ]
  },
  {
   "cell_type": "code",
   "execution_count": null,
   "id": "afraid-wallace",
   "metadata": {},
   "outputs": [],
   "source": []
  }
 ],
 "metadata": {
  "kernelspec": {
   "display_name": "Python 3",
   "language": "python",
   "name": "python3"
  },
  "language_info": {
   "codemirror_mode": {
    "name": "ipython",
    "version": 3
   },
   "file_extension": ".py",
   "mimetype": "text/x-python",
   "name": "python",
   "nbconvert_exporter": "python",
   "pygments_lexer": "ipython3",
   "version": "3.9.2"
  }
 },
 "nbformat": 4,
 "nbformat_minor": 5
}
